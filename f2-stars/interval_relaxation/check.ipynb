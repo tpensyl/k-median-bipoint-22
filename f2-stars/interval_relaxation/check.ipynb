{
 "cells": [
  {
   "cell_type": "code",
   "execution_count": 1,
   "metadata": {},
   "outputs": [],
   "source": [
    "import sqlite3"
   ]
  },
  {
   "cell_type": "code",
   "execution_count": 2,
   "metadata": {},
   "outputs": [
    {
     "name": "stderr",
     "output_type": "stream",
     "text": [
      "Exception ignored in: <bound method IPythonKernel._clean_thread_parent_frames of <ipykernel.ipkernel.IPythonKernel object at 0x7f1003cadc00>>\n",
      "Traceback (most recent call last):\n",
      "  File \"/home/kishen/.local/lib/python3.10/site-packages/ipykernel/ipkernel.py\", line 775, in _clean_thread_parent_frames\n",
      "    def _clean_thread_parent_frames(\n",
      "KeyboardInterrupt: \n"
     ]
    }
   ],
   "source": [
    "conn = sqlite3.connect('output/g2/intervals.db')\n",
    "cursor = conn.cursor()\n",
    "cursor.execute('''\n",
    "\tSELECT id, obj, b0, b1, gammaA00, gammaA01, gammaA10, gammaA11\n",
    "\tFROM Intervals\n",
    "\tWHERE obj >= ?\n",
    "\tORDER BY obj DESC\n",
    "\t''', (2.6080779,))\n",
    "results = cursor.fetchall()\n",
    "print(len(results))\n",
    "conn.close()"
   ]
  },
  {
   "cell_type": "code",
   "execution_count": null,
   "metadata": {},
   "outputs": [
    {
     "name": "stdout",
     "output_type": "stream",
     "text": [
      "Number of entries in the table: 68088302\n"
     ]
    }
   ],
   "source": [
    "conn = sqlite3.connect('output/g2/intervals.db')\n",
    "cursor = conn.cursor()\n",
    "cursor.execute('SELECT COUNT(*) FROM Intervals')\n",
    "count = cursor.fetchone()[0]\n",
    "print(f\"Number of entries in the table: {count}\")\n",
    "conn.close()"
   ]
  },
  {
   "cell_type": "code",
   "execution_count": null,
   "metadata": {},
   "outputs": [],
   "source": []
  }
 ],
 "metadata": {
  "kernelspec": {
   "display_name": "Python 3",
   "language": "python",
   "name": "python3"
  },
  "language_info": {
   "codemirror_mode": {
    "name": "ipython",
    "version": 3
   },
   "file_extension": ".py",
   "mimetype": "text/x-python",
   "name": "python",
   "nbconvert_exporter": "python",
   "pygments_lexer": "ipython3",
   "version": "3.10.12"
  }
 },
 "nbformat": 4,
 "nbformat_minor": 2
}
